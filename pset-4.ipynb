{
 "cells": [
  {
   "cell_type": "markdown",
   "id": "ebbd56bb",
   "metadata": {},
   "source": [
    "## Imports and Initialization"
   ]
  },
  {
   "cell_type": "code",
   "execution_count": null,
   "id": "4c7a76c1",
   "metadata": {},
   "outputs": [],
   "source": [
    "# enable interactive components\n",
    "%matplotlib widget\n",
    "\n",
    "# Import packages\n",
    "import numpy as np                # numerical routines\n",
    "import matplotlib.pyplot as plt   # plotting\n",
    "import ipywidgets as widgets      # provides interactive jupyter notebook components"
   ]
  },
  {
   "cell_type": "code",
   "execution_count": null,
   "id": "e16fa089",
   "metadata": {},
   "outputs": [],
   "source": [
    "# ---- Define Constants\n",
    "\n",
    "K_BOLTZ = 1.3806e-16      # Boltzmann constant (k_b) [erg/K]\n",
    "ELEC_VOLT = 1.60218e-12   # electron volt      (eV)  [erg]\n",
    "SPLC = 29979245800.0      # speed of light     (c)   [cm/s]\n",
    "ELEC = 5.10998e5          # e mass-energy  (m_e c^2) [eV]"
   ]
  },
  {
   "cell_type": "code",
   "execution_count": null,
   "id": "14f28d3a",
   "metadata": {},
   "outputs": [],
   "source": [
    "def saha_func(temp, eta, qbind):\n",
    "    \"\"\"Saha Equation - Fill in this function to return the ionization fraction X\n",
    "\n",
    "    HINT: be careful with your units\n",
    "\n",
    "    Make sure you *do not* change the arguments to this function as they are used for plotting below.\n",
    "\n",
    "    \"\"\"\n",
    "\n",
    "    return xval"
   ]
  },
  {
   "cell_type": "code",
   "execution_count": null,
   "id": "8ee7907d",
   "metadata": {},
   "outputs": [],
   "source": [
    "# ---- ** Students **: Set Default Values --------------------\n",
    "QBIND =   # Hydrogen Atom Binding Energy\n",
    "ETA =   # Baryon-to-Photon ratio\n",
    "# --------------------------------------------\n",
    "\n",
    "\n",
    "# Define an array of temperatures in [Kelvin]\n",
    "temp = np.linspace(3000, 4500, 100)\n",
    "# Calculate ionization fraction (X) using the Saha Equation (`saha_func` defined above)\n",
    "xval = saha_func(temp, ETA, QBIND)\n",
    "\n",
    "\n",
    "def get_label(eta, qbind):\n",
    "    \"\"\"Return a string describing the given parameters.\n",
    "    \"\"\"\n",
    "    return f'$\\eta={ETA:.2e}$  $Q={QBIND:.2f}$'\n",
    "\n",
    "# ---- Setup Figure and Axes\n",
    "\n",
    "# Create Figure and Axes\n",
    "fig, ax = plt.subplots(figsize=[6, 4])\n",
    "# Add gridlines with transparency\n",
    "ax.grid(alpha=0.2)\n",
    "# Setup the axes labels (correctly this time!)\n",
    "ax.set(xlabel='Temperature [K]', ylabel='X', xlim=[temp[0], temp[-1]])\n",
    "# Put this axis at the top (so that the cursor shows the current coordinates)\n",
    "ax.set_zorder(100)\n",
    "\n",
    "# Create a second x-axis on the top of the plot that shows redshifts\n",
    "tw = ax.twiny()\n",
    "tw.set(xlabel='Redshift', xlim=ax.get_xlim())\n",
    "# Choose certain redshift values to show\n",
    "redz = [1600, 1500, 1400, 1300, 1200, 1100]\n",
    "# calculate the corresponding temperatures (T/T0)^4 = (1 + z)^4 / (1 + z_0)^4\n",
    "ztemp = [zz * 2.7255 for zz in redz]\n",
    "# Set tick locations\n",
    "tw.set_xticks(ztemp)\n",
    "# Set tick labels\n",
    "tw.set_xticklabels(redz)\n",
    "\n",
    "# ---- Plot Lines \n",
    "\n",
    "# Plot X vs. T using default values\n",
    "ax.plot(temp, xval, 'k--', label=get_label(ETA, QBIND))\n",
    "# Plot X vs. T using values chosen with widget sliders\n",
    "line, = ax.plot(temp, xval)\n",
    "\n",
    "# Add legend\n",
    "leg = ax.legend(loc='lower right')\n",
    "\n",
    "# ---- Add interactive elements\n",
    "\n",
    "def update(eta, qbind):\n",
    "    \"\"\"Update plot with new values of parameters, given from widget sliders\n",
    "    \"\"\"\n",
    "    # calculate a new time evolution, convert to Gyr, update the plotted line\n",
    "    xval = saha_func(temp, eta, qbind)\n",
    "    line.set_ydata(xval)\n",
    "    # get an updated plot label, add it to plot\n",
    "    lab = get_label(eta, qbind)\n",
    "    # redraw the plot\n",
    "    fig.canvas.draw_idle()\n",
    "    return\n",
    "\n",
    "# Create widget sliders\n",
    "wid_qbind = widgets.FloatSlider(QBIND, min=2.0, max=30.0, description='$Q$')\n",
    "wid_eta = widgets.FloatLogSlider(ETA, min=-12.0, max=0.0, description='$\\eta$', readout_format='.2e')\n",
    "\n",
    "# Add interactive widgets\n",
    "widgets.interact(update, eta=wid_eta, qbind=wid_qbind);\n",
    "\n",
    "# Show the plot\n",
    "plt.show()"
   ]
  }
 ],
 "metadata": {
  "interpreter": {
   "hash": "211cfeae0f254f09d73e08b76e425fa299b370d30ecbfe68133b80ca48efa400"
  },
  "kernelspec": {
   "display_name": "Python 3.9.7 64-bit ('py39': conda)",
   "name": "python3"
  },
  "language_info": {
   "codemirror_mode": {
    "name": "ipython",
    "version": 3
   },
   "file_extension": ".py",
   "mimetype": "text/x-python",
   "name": "python",
   "nbconvert_exporter": "python",
   "pygments_lexer": "ipython3",
   "version": "3.9.7"
  },
  "toc": {
   "base_numbering": 1,
   "nav_menu": {},
   "number_sections": true,
   "sideBar": true,
   "skip_h1_title": false,
   "title_cell": "Table of Contents",
   "title_sidebar": "Contents",
   "toc_cell": false,
   "toc_position": {
    "height": "calc(100% - 180px)",
    "left": "10px",
    "top": "150px",
    "width": "172px"
   },
   "toc_section_display": true,
   "toc_window_display": true
  },
  "varInspector": {
   "cols": {
    "lenName": 16,
    "lenType": 16,
    "lenVar": 40
   },
   "kernels_config": {
    "python": {
     "delete_cmd_postfix": "",
     "delete_cmd_prefix": "del ",
     "library": "var_list.py",
     "varRefreshCmd": "print(var_dic_list())"
    },
    "r": {
     "delete_cmd_postfix": ") ",
     "delete_cmd_prefix": "rm(",
     "library": "var_list.r",
     "varRefreshCmd": "cat(var_dic_list()) "
    }
   },
   "types_to_exclude": [
    "module",
    "function",
    "builtin_function_or_method",
    "instance",
    "_Feature"
   ],
   "window_display": false
  }
 },
 "nbformat": 4,
 "nbformat_minor": 5
}
